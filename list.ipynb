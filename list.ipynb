{
 "cells": [
  {
   "cell_type": "markdown",
   "metadata": {
    "slideshow": {
     "slide_type": "slide"
    }
   },
   "source": [
    "# An introduction to Python\n",
    "\n",
    "- Python website: https://www.python.org/ \n",
    "- [Python 3 Standard Library](https://docs.python.org/3/library/index.html])"
   ]
  },
  {
   "cell_type": "markdown",
   "metadata": {
    "slideshow": {
     "slide_type": "slide"
    }
   },
   "source": [
    "## Learning objectives\n",
    "\n",
    "- **Basics** how to print, create variables and save Python code in files\n",
    "- **List** the most common data types in Python\n",
    "- **Explain** how to write conditions and loops in Python\n",
    "- **Use and compare** these concepts in different code examples \n",
    "- **Propose and create** solutions using these concepts in different exercises"
   ]
  },
  {
   "cell_type": "markdown",
   "metadata": {
    "slideshow": {
     "slide_type": "slide"
    }
   },
   "source": [
    "- **Session 2.1** - Functions\n",
    "- **Session 2.2** - Modules\n",
    "- **Session 2.3** - Files"
   ]
  },
  {
   "cell_type": "markdown",
   "metadata": {
    "slideshow": {
     "slide_type": "slide"
    }
   },
   "source": [
    "## What we've learned so far\n",
    "\n",
    "- Simple data types, Collections\n",
    "- Conditional execution\n",
    "- Loops\n",
    "- Functions used so far..."
   ]
  },
  {
   "cell_type": "markdown",
   "metadata": {
    "slideshow": {
     "slide_type": "slide"
    }
   },
   "source": [
    "## Collections"
   ]
  },
  {
   "cell_type": "code",
   "execution_count": 4,
   "metadata": {
    "slideshow": {
     "slide_type": "subslide"
    }
   },
   "outputs": [
    {
     "name": "stdout",
     "output_type": "stream",
     "text": [
      "A tuple: (2, 3, 4, 5)\n",
      "First element of tuple: 2\n"
     ]
    }
   ],
   "source": [
    "## Tuple - immutable\n",
    "example_tuple = (2, 3, 4, 5)\n",
    "print('A tuple:', example_tuple)\n",
    "print('First element of tuple:', example_tuple[0])"
   ]
  },
  {
   "cell_type": "code",
   "execution_count": 5,
   "metadata": {
    "slideshow": {
     "slide_type": "subslide"
    }
   },
   "outputs": [
    {
     "name": "stdout",
     "output_type": "stream",
     "text": [
      "A list: [2, 3, 4, 5]\n",
      "First element of list: 2\n",
      "Appended list: [2, 3, 4, 5, 12]\n",
      "Modified list: [45, 3, 4, 5, 12]\n"
     ]
    }
   ],
   "source": [
    "## List\n",
    "example_list = [2, 3, 4, 5]\n",
    "print('A list:', example_list)\n",
    "print('First element of list:', example_list[0])\n",
    "example_list.append(12)\n",
    "print('Appended list:', example_list)\n",
    "example_list[0] = 45\n",
    "print('Modified list:', example_list)"
   ]
  },
  {
   "cell_type": "code",
   "execution_count": 3,
   "metadata": {
    "slideshow": {
     "slide_type": "subslide"
    }
   },
   "outputs": [
    {
     "name": "stdout",
     "output_type": "stream",
     "text": [
      "Here is a string: ABCDEFGH\n",
      "First character: A\n",
      "Number of characters in text 8\n"
     ]
    }
   ],
   "source": [
    "## String - immutable, tuple of characters\n",
    "text = \"ABCDEFGH\"\n",
    "print('Here is a string:', text)\n",
    "print('First character:', text[0])\n",
    "print('Number of characters in text', len(text))"
   ]
  },
  {
   "cell_type": "code",
   "execution_count": 6,
   "metadata": {
    "slideshow": {
     "slide_type": "subslide"
    }
   },
   "outputs": [
    {
     "name": "stdout",
     "output_type": "stream",
     "text": [
      "A set: {1, 2, 4, 5, 6}\n"
     ]
    }
   ],
   "source": [
    "## Set - unique unordered elements\n",
    "example_set = set([1,2,2,2,2,4,5,6,6,6])\n",
    "print('A set:', example_set)"
   ]
  },
  {
   "cell_type": "code",
   "execution_count": 7,
   "metadata": {
    "slideshow": {
     "slide_type": "subslide"
    }
   },
   "outputs": [
    {
     "name": "stdout",
     "output_type": "stream",
     "text": [
      "A dictionary: {'A': 'APPLE', 'B': 'BALL', 'C': 'CAT', 'D': 'DOLL'}\n",
      "Value associated to key C: CAT\n"
     ]
    }
   ],
   "source": [
    "## Dictionary\n",
    "example_dictionary = {\"A\": \"APPLE\", \n",
    "                      \"B\": \"BALL\", \n",
    "                      \"C\": \"CAT\", \n",
    "                      \"D\": \"DOLL\"}\n",
    "print('A dictionary:', example_dictionary)\n",
    "print('Value associated to key C:', example_dictionary['C'])"
   ]
  },
  {
   "cell_type": "markdown",
   "metadata": {
    "slideshow": {
     "slide_type": "slide"
    }
   },
   "source": [
    "## Conditional execution"
   ]
  },
  {
   "cell_type": "code",
   "execution_count": 8,
   "metadata": {},
   "outputs": [
    {
     "name": "stdout",
     "output_type": "stream",
     "text": [
      "Is 2 < 5? True\n",
      "Is 2 == 5? False\n",
      "Is 2 < 5 and 2 > 1? True\n",
      "x is equal to 2\n"
     ]
    }
   ],
   "source": [
    "x = 2\n",
    "print('Is 2 < 5?', x < 5)\n",
    "print('Is 2 == 5?', x == 5)\n",
    "print('Is 2 < 5 and 2 > 1?', (x < 5) & (x > 1))\n",
    "\n",
    "if x == 2:\n",
    "    print('x is equal to 2')"
   ]
  },
  {
   "cell_type": "markdown",
   "metadata": {
    "slideshow": {
     "slide_type": "slide"
    }
   },
   "source": [
    "## Loops"
   ]
  },
  {
   "cell_type": "code",
   "execution_count": 9,
   "metadata": {
    "slideshow": {
     "slide_type": "-"
    }
   },
   "outputs": [
    {
     "name": "stdout",
     "output_type": "stream",
     "text": [
      "The element in list is: A\n",
      "The element in list is: B\n",
      "The element in list is: C\n",
      "The element in list is: D\n",
      "The element in list is: E\n"
     ]
    }
   ],
   "source": [
    "example_list = ['A', 'B', 'C', 'D', 'E']\n",
    "\n",
    "## Looping through a list\n",
    "for element in example_list:\n",
    "    print(\"The element in list is:\", element)"
   ]
  },
  {
   "cell_type": "markdown",
   "metadata": {
    "slideshow": {
     "slide_type": "slide"
    }
   },
   "source": [
    "## Exercise 2.0.1\n",
    "\n",
    "- Create a string variable with the lyrics of Imagine by John Lennon, 1971. Split into words. Print the total number of words, and the number of unique words. Calculate the frequency of each word and store the result into a dictionary. Print each unique word along with its frequency. Find the most frequent word in the song, print it with its frequency.\n",
    "\n",
    "<center><img src=\"https://upload.wikimedia.org/wikipedia/en/1/1d/John_Lennon_-_Imagine_John_Lennon.jpg\"/></center>"
   ]
  },
  {
   "cell_type": "code",
   "execution_count": 2,
   "metadata": {
    "slideshow": {
     "slide_type": "subslide"
    }
   },
   "outputs": [],
   "source": [
    "lyrics = \"\"\"\n",
    "Imagine there's no Heaven\n",
    "It's easy if you try\n",
    "No Hell below us\n",
    "Above us only sky\n",
    "\n",
    "Imagine all the people\n",
    "Living for today\n",
    "Aaa haa\n",
    "\n",
    "Imagine there's no countries\n",
    "It isn't hard to do\n",
    "Nothing to kill or die for\n",
    "And no religion too\n",
    "\n",
    "Imagine all the people\n",
    "Living life in peace\n",
    "Yoo hoo\n",
    "\n",
    "You may say I'm a dreamer\n",
    "But I'm not the only one\n",
    "I hope someday you'll join us\n",
    "And the world will be as one\n",
    "\n",
    "Imagine no possessions\n",
    "I wonder if you can\n",
    "No need for greed or hunger\n",
    "A brotherhood of man\n",
    "\n",
    "Imagine all the people\n",
    "Sharing all the world\n",
    "Yoo hoo\n",
    "\n",
    "You may say I'm a dreamer\n",
    "But I'm not the only one\n",
    "I hope someday you'll join us\n",
    "And the world will live as one\n",
    "\"\"\""
   ]
  },
  {
   "cell_type": "code",
   "execution_count": 4,
   "metadata": {},
   "outputs": [
    {
     "data": {
      "text/plain": [
       "['',\n",
       " 'Imagine',\n",
       " \"there's\",\n",
       " 'no',\n",
       " 'Heaven',\n",
       " \"It's\",\n",
       " 'easy',\n",
       " 'if',\n",
       " 'you',\n",
       " 'try',\n",
       " 'No',\n",
       " 'Hell',\n",
       " 'below',\n",
       " 'us',\n",
       " 'Above',\n",
       " 'us',\n",
       " 'only',\n",
       " 'sky',\n",
       " '',\n",
       " 'Imagine',\n",
       " 'all',\n",
       " 'the',\n",
       " 'people',\n",
       " 'Living',\n",
       " 'for',\n",
       " 'today',\n",
       " 'Aaa',\n",
       " 'haa',\n",
       " '',\n",
       " 'Imagine',\n",
       " \"there's\",\n",
       " 'no',\n",
       " 'countries',\n",
       " 'It',\n",
       " \"isn't\",\n",
       " 'hard',\n",
       " 'to',\n",
       " 'do',\n",
       " 'Nothing',\n",
       " 'to',\n",
       " 'kill',\n",
       " 'or',\n",
       " 'die',\n",
       " 'for',\n",
       " 'And',\n",
       " 'no',\n",
       " 'religion',\n",
       " 'too',\n",
       " '',\n",
       " 'Imagine',\n",
       " 'all',\n",
       " 'the',\n",
       " 'people',\n",
       " 'Living',\n",
       " 'life',\n",
       " 'in',\n",
       " 'peace',\n",
       " 'Yoo',\n",
       " 'hoo',\n",
       " '',\n",
       " 'You',\n",
       " 'may',\n",
       " 'say',\n",
       " \"I'm\",\n",
       " 'a',\n",
       " 'dreamer',\n",
       " 'But',\n",
       " \"I'm\",\n",
       " 'not',\n",
       " 'the',\n",
       " 'only',\n",
       " 'one',\n",
       " 'I',\n",
       " 'hope',\n",
       " 'someday',\n",
       " \"you'll\",\n",
       " 'join',\n",
       " 'us',\n",
       " 'And',\n",
       " 'the',\n",
       " 'world',\n",
       " 'will',\n",
       " 'be',\n",
       " 'as',\n",
       " 'one',\n",
       " '',\n",
       " 'Imagine',\n",
       " 'no',\n",
       " 'possessions',\n",
       " 'I',\n",
       " 'wonder',\n",
       " 'if',\n",
       " 'you',\n",
       " 'can',\n",
       " 'No',\n",
       " 'need',\n",
       " 'for',\n",
       " 'greed',\n",
       " 'or',\n",
       " 'hunger',\n",
       " 'A',\n",
       " 'brotherhood',\n",
       " 'of',\n",
       " 'man',\n",
       " '',\n",
       " 'Imagine',\n",
       " 'all',\n",
       " 'the',\n",
       " 'people',\n",
       " 'Sharing',\n",
       " 'all',\n",
       " 'the',\n",
       " 'world',\n",
       " 'Yoo',\n",
       " 'hoo',\n",
       " '',\n",
       " 'You',\n",
       " 'may',\n",
       " 'say',\n",
       " \"I'm\",\n",
       " 'a',\n",
       " 'dreamer',\n",
       " 'But',\n",
       " \"I'm\",\n",
       " 'not',\n",
       " 'the',\n",
       " 'only',\n",
       " 'one',\n",
       " 'I',\n",
       " 'hope',\n",
       " 'someday',\n",
       " \"you'll\",\n",
       " 'join',\n",
       " 'us',\n",
       " 'And',\n",
       " 'the',\n",
       " 'world',\n",
       " 'will',\n",
       " 'live',\n",
       " 'as',\n",
       " 'one',\n",
       " '']"
      ]
     },
     "execution_count": 4,
     "metadata": {},
     "output_type": "execute_result"
    }
   ],
   "source": [
    "lines=lyrics.split(\"\\n\")\n",
    "words=[]\n",
    "\n",
    "for line in lines:\n",
    "    temp=line.split(\" \")\n",
    "    for word in temp:\n",
    "        words.append(word)\n",
    "words"
   ]
  },
  {
   "cell_type": "code",
   "execution_count": 10,
   "metadata": {},
   "outputs": [],
   "source": [
    "for word in words:\n",
    "    if word=='':\n",
    "        words.remove(word)"
   ]
  },
  {
   "cell_type": "code",
   "execution_count": 11,
   "metadata": {},
   "outputs": [
    {
     "name": "stdout",
     "output_type": "stream",
     "text": [
      "Total number of words: 133\n",
      "Number of unique words:  72\n"
     ]
    }
   ],
   "source": [
    "print(\"Total number of words:\",len(words))\n",
    "set1=set(words)\n",
    "print(\"Number of unique words: \",len(set1))"
   ]
  },
  {
   "cell_type": "code",
   "execution_count": 12,
   "metadata": {},
   "outputs": [
    {
     "data": {
      "text/plain": [
       "{'below': 1,\n",
       " 'will': 2,\n",
       " 'hunger': 1,\n",
       " 'Sharing': 1,\n",
       " \"there's\": 2,\n",
       " 'no': 4,\n",
       " 'man': 1,\n",
       " 'someday': 2,\n",
       " 'may': 2,\n",
       " 'world': 3,\n",
       " \"isn't\": 1,\n",
       " 'hard': 1,\n",
       " 'possessions': 1,\n",
       " 'not': 2,\n",
       " 'for': 3,\n",
       " 'easy': 1,\n",
       " 'And': 3,\n",
       " 'wonder': 1,\n",
       " 'us': 4,\n",
       " 'Aaa': 1,\n",
       " 'Imagine': 6,\n",
       " 'of': 1,\n",
       " 'need': 1,\n",
       " 'do': 1,\n",
       " 'I': 3,\n",
       " 'greed': 1,\n",
       " 'A': 1,\n",
       " 'Nothing': 1,\n",
       " 'hoo': 2,\n",
       " 'Living': 2,\n",
       " 'only': 3,\n",
       " 'one': 4,\n",
       " 'join': 2,\n",
       " 'life': 1,\n",
       " 'But': 2,\n",
       " 'be': 1,\n",
       " 'too': 1,\n",
       " \"It's\": 1,\n",
       " 'peace': 1,\n",
       " 'say': 2,\n",
       " 'kill': 1,\n",
       " 'Yoo': 2,\n",
       " 'to': 2,\n",
       " 'a': 2,\n",
       " 'countries': 1,\n",
       " 'haa': 1,\n",
       " 'you': 2,\n",
       " 'Hell': 1,\n",
       " 'Above': 1,\n",
       " 'as': 2,\n",
       " 'It': 1,\n",
       " 'all': 4,\n",
       " 'No': 2,\n",
       " 'try': 1,\n",
       " 'today': 1,\n",
       " 'die': 1,\n",
       " 'You': 2,\n",
       " 'hope': 2,\n",
       " 'can': 1,\n",
       " \"I'm\": 4,\n",
       " 'if': 2,\n",
       " 'Heaven': 1,\n",
       " 'or': 2,\n",
       " 'religion': 1,\n",
       " 'dreamer': 2,\n",
       " \"you'll\": 2,\n",
       " 'brotherhood': 1,\n",
       " 'people': 3,\n",
       " 'live': 1,\n",
       " 'the': 8,\n",
       " 'in': 1,\n",
       " 'sky': 1}"
      ]
     },
     "execution_count": 12,
     "metadata": {},
     "output_type": "execute_result"
    }
   ],
   "source": [
    "dict1=dict()\n",
    "for key in set1:\n",
    "    dict1[key]=words.count(key)\n",
    "dict1"
   ]
  },
  {
   "cell_type": "code",
   "execution_count": 13,
   "metadata": {},
   "outputs": [
    {
     "name": "stdout",
     "output_type": "stream",
     "text": [
      "Word having maximum frequency: the\n"
     ]
    }
   ],
   "source": [
    "max1=max(dict1,key=dict1.get)\n",
    "print(\"Word having maximum frequency:\",max1)"
   ]
  },
  {
   "cell_type": "markdown",
   "metadata": {
    "slideshow": {
     "slide_type": "slide"
    }
   },
   "source": [
    "## Next session\n",
    "\n",
    "- Go to next session: [Session 6](Session_6.ipynb)"
   ]
  }
 ],
 "metadata": {
  "celltoolbar": "Slideshow",
  "kernelspec": {
   "display_name": "Python 3 (ipykernel)",
   "language": "python",
   "name": "python3"
  },
  "language_info": {
   "codemirror_mode": {
    "name": "ipython",
    "version": 3
   },
   "file_extension": ".py",
   "mimetype": "text/x-python",
   "name": "python",
   "nbconvert_exporter": "python",
   "pygments_lexer": "ipython3",
   "version": "3.9.12"
  }
 },
 "nbformat": 4,
 "nbformat_minor": 1
}
